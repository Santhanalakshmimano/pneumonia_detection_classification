{
 "cells": [
  {
   "cell_type": "code",
   "execution_count": 1,
   "metadata": {},
   "outputs": [
    {
     "name": "stderr",
     "output_type": "stream",
     "text": [
      "/home/santhanalakshmi/venv/lib/python3.5/importlib/_bootstrap.py:222: RuntimeWarning: numpy.dtype size changed, may indicate binary incompatibility. Expected 96, got 88\n",
      "  return f(*args, **kwds)\n",
      "/home/santhanalakshmi/venv/lib/python3.5/importlib/_bootstrap.py:222: RuntimeWarning: numpy.ufunc size changed, may indicate binary incompatibility. Expected 216, got 192\n",
      "  return f(*args, **kwds)\n",
      "/home/santhanalakshmi/venv/lib/python3.5/importlib/_bootstrap.py:222: RuntimeWarning: numpy.dtype size changed, may indicate binary incompatibility. Expected 96, got 88\n",
      "  return f(*args, **kwds)\n",
      "/home/santhanalakshmi/venv/lib/python3.5/importlib/_bootstrap.py:222: RuntimeWarning: numpy.ufunc size changed, may indicate binary incompatibility. Expected 216, got 192\n",
      "  return f(*args, **kwds)\n",
      "/home/santhanalakshmi/venv/lib/python3.5/importlib/_bootstrap.py:222: RuntimeWarning: numpy.dtype size changed, may indicate binary incompatibility. Expected 96, got 88\n",
      "  return f(*args, **kwds)\n",
      "/home/santhanalakshmi/venv/lib/python3.5/importlib/_bootstrap.py:222: RuntimeWarning: numpy.ufunc size changed, may indicate binary incompatibility. Expected 216, got 192\n",
      "  return f(*args, **kwds)\n"
     ]
    }
   ],
   "source": [
    "import pandas as pd\n",
    "import numpy as np\n",
    "import tensorflow as tf\n",
    "import os, cv2\n",
    "from keras.layers import Conv2D, Dense, Flatten, MaxPooling2D\n",
    "from keras.layers.normalization import BatchNormalization\n",
    "from sklearn.model_selection import train_test_split\n",
    "from sklearn.metrics import accuracy_score"
   ]
  },
  {
   "cell_type": "code",
   "execution_count": 5,
   "metadata": {},
   "outputs": [
    {
     "name": "stdout",
     "output_type": "stream",
     "text": [
      "2425\n"
     ]
    }
   ],
   "source": [
    "data = []\n",
    "def create_data():\n",
    "    image_size = 150\n",
    "    for item in ['normal', 'pneumonia']:\n",
    "        path = \"/home/santhanalakshmi/pneumonia_dataset/train/\" + item + \"/\"\n",
    "        for img in os.listdir(path):\n",
    "            image = cv2.imread(os.path.join(path, img), cv2.IMREAD_GRAYSCALE)\n",
    "            image_resize = cv2.resize(image, (image_size, image_size))\n",
    "            if item == 'normal':\n",
    "                data.append([image_resize, 0])\n",
    "            else:\n",
    "                data.append([image_resize, 1])\n",
    "    print(len(data))\n",
    "create_data() "
   ]
  },
  {
   "cell_type": "code",
   "execution_count": 6,
   "metadata": {},
   "outputs": [
    {
     "name": "stdout",
     "output_type": "stream",
     "text": [
      "(2425, 150, 150)  (2425,)\n"
     ]
    }
   ],
   "source": [
    "np.random.shuffle(data)\n",
    "x = []\n",
    "y = []\n",
    "for image in data:\n",
    "    x.append(image[0])\n",
    "    y.append(image[1])\n",
    "x = np.asarray(x)\n",
    "y = np.asarray(y)\n",
    "print(x.shape, '', y.shape)"
   ]
  },
  {
   "cell_type": "code",
   "execution_count": 9,
   "metadata": {},
   "outputs": [],
   "source": [
    "x = x.reshape(-1, 150, 150, 1)\n",
    "X_train, X_val, y_train, y_val = train_test_split(x,y,test_size=0.3, random_state = 42)"
   ]
  },
  {
   "cell_type": "code",
   "execution_count": 21,
   "metadata": {},
   "outputs": [],
   "source": [
    "from keras.models import Sequential\n",
    "model = Sequential([\n",
    "    Conv2D(filters=32, kernel_size = (3,3), activation='relu', input_shape = X_train[0].shape),\n",
    "    BatchNormalization(),\n",
    "    MaxPooling2D((2,2)),\n",
    "    \n",
    "    Conv2D(filters=64, kernel_size=(3,3), activation='relu'),\n",
    "    BatchNormalization(),\n",
    "    MaxPooling2D((2,2)),\n",
    "    \n",
    "    Conv2D(filters=64, kernel_size=(3,3), activation='relu'),\n",
    "    BatchNormalization(),\n",
    "    MaxPooling2D((2,2)),\n",
    "    \n",
    "    Flatten(),\n",
    "    Dense(64, activation='relu'),\n",
    "    Dense(units=1, activation='sigmoid')  \n",
    "])"
   ]
  },
  {
   "cell_type": "code",
   "execution_count": 22,
   "metadata": {},
   "outputs": [],
   "source": [
    "model.compile(optimizer='adam',\n",
    "                     loss='binary_crossentropy',\n",
    "                     metrics=['accuracy'])\n"
   ]
  },
  {
   "cell_type": "code",
   "execution_count": 27,
   "metadata": {},
   "outputs": [
    {
     "name": "stdout",
     "output_type": "stream",
     "text": [
      "Epoch 1/10\n",
      "1697/1697 [==============================] - 118s 70ms/step - loss: 0.3359 - acc: 0.8456\n",
      "Epoch 2/10\n",
      "1697/1697 [==============================] - 119s 70ms/step - loss: 0.2384 - acc: 0.9010\n",
      "Epoch 3/10\n",
      "1697/1697 [==============================] - 114s 67ms/step - loss: 0.1706 - acc: 0.9358\n",
      "Epoch 4/10\n",
      "1697/1697 [==============================] - 116s 68ms/step - loss: 0.1174 - acc: 0.9664\n",
      "Epoch 5/10\n",
      "1697/1697 [==============================] - 115s 68ms/step - loss: 0.0691 - acc: 0.9829\n",
      "Epoch 6/10\n",
      "1697/1697 [==============================] - 115s 68ms/step - loss: 0.0450 - acc: 0.9959\n",
      "Epoch 7/10\n",
      "1697/1697 [==============================] - 118s 70ms/step - loss: 0.0275 - acc: 0.9988\n",
      "Epoch 8/10\n",
      "1697/1697 [==============================] - 116s 69ms/step - loss: 0.0136 - acc: 0.9994\n",
      "Epoch 9/10\n",
      "1697/1697 [==============================] - 117s 69ms/step - loss: 0.0090 - acc: 0.9994\n",
      "Epoch 10/10\n",
      "1697/1697 [==============================] - 116s 69ms/step - loss: 0.0056 - acc: 1.0000\n"
     ]
    },
    {
     "data": {
      "text/plain": [
       "<keras.callbacks.History at 0x7f96d31675f8>"
      ]
     },
     "execution_count": 27,
     "metadata": {},
     "output_type": "execute_result"
    }
   ],
   "source": [
    "model.fit(X_train, y_train, epochs=10, batch_size=64)"
   ]
  },
  {
   "cell_type": "code",
   "execution_count": 29,
   "metadata": {},
   "outputs": [
    {
     "name": "stdout",
     "output_type": "stream",
     "text": [
      "728/728 [==============================] - 12s 16ms/step\n"
     ]
    },
    {
     "data": {
      "text/plain": [
       "[1.287813554753314, 0.5810439553889599]"
      ]
     },
     "execution_count": 29,
     "metadata": {},
     "output_type": "execute_result"
    }
   ],
   "source": [
    "model.evaluate(X_val, y_val)"
   ]
  },
  {
   "cell_type": "code",
   "execution_count": 32,
   "metadata": {},
   "outputs": [
    {
     "ename": "TypeError",
     "evalue": "'History' object is not callable",
     "output_type": "error",
     "traceback": [
      "\u001b[0;31m---------------------------------------------------------------------------\u001b[0m",
      "\u001b[0;31mTypeError\u001b[0m                                 Traceback (most recent call last)",
      "\u001b[0;32m<ipython-input-32-1099c77f7731>\u001b[0m in \u001b[0;36m<module>\u001b[0;34m\u001b[0m\n\u001b[0;32m----> 1\u001b[0;31m \u001b[0mmodel\u001b[0m\u001b[0;34m.\u001b[0m\u001b[0mhistory\u001b[0m\u001b[0;34m(\u001b[0m\u001b[0;34m[\u001b[0m\u001b[0;34m'acc'\u001b[0m\u001b[0;34m]\u001b[0m\u001b[0;34m,\u001b[0m\u001b[0;34m[\u001b[0m\u001b[0;34m'loss'\u001b[0m\u001b[0;34m]\u001b[0m\u001b[0;34m)\u001b[0m\u001b[0;34m\u001b[0m\u001b[0m\n\u001b[0m",
      "\u001b[0;31mTypeError\u001b[0m: 'History' object is not callable"
     ]
    }
   ],
   "source": []
  },
  {
   "cell_type": "code",
   "execution_count": null,
   "metadata": {},
   "outputs": [],
   "source": []
  },
  {
   "cell_type": "code",
   "execution_count": 34,
   "metadata": {},
   "outputs": [
    {
     "name": "stdout",
     "output_type": "stream",
     "text": [
      "           filename\n",
      "0  CXR_test_519.png\n",
      "1  CXR_test_578.png\n",
      "2  CXR_test_359.png\n",
      "3  CXR_test_573.png\n",
      "4  CXR_test_471.png\n",
      "           filename                                          filepaths\n",
      "0  CXR_test_519.png  /home/santhanalakshmi/pneumonia_dataset/test/C...\n",
      "1  CXR_test_578.png  /home/santhanalakshmi/pneumonia_dataset/test/C...\n",
      "2  CXR_test_359.png  /home/santhanalakshmi/pneumonia_dataset/test/C...\n",
      "3  CXR_test_573.png  /home/santhanalakshmi/pneumonia_dataset/test/C...\n",
      "4  CXR_test_471.png  /home/santhanalakshmi/pneumonia_dataset/test/C...\n"
     ]
    }
   ],
   "source": [
    "test_image_order = pd.read_csv(\"/home/santhanalakshmi/pneumonia_dataset/test.csv\")\n",
    "print(test_image_order.head())\n",
    "\n",
    "file_paths = [[fname, '/home/santhanalakshmi/pneumonia_dataset/test/' + fname] for fname in test_image_order['filename']]\n",
    "test_images = pd.DataFrame(file_paths, columns=['filename', 'filepaths'])\n",
    "print(test_images.head())\n",
    "\n",
    "test_pixel_data = []    \n",
    "for i in range(len(test_images)):\n",
    "    img_array = cv2.imread(test_images['filepaths'][i], cv2.IMREAD_GRAYSCALE)\n",
    "    new_img_array =cv2.resize(img_array,(150,150))\n",
    "    test_pixel_data.append(new_img_array)\n",
    "test_pixel_data = np.asarray(test_pixel_data)\n",
    "test_pixel_data =  test_pixel_data.reshape(-1, 150, 150, 1)\n",
    "pred = model.predict(test_pixel_data)\n",
    "predictions = []\n",
    "for item in pred:\n",
    "  if item <= 0.5:\n",
    "    predictions.append('normal')\n",
    "  else:\n",
    "    predictions.append('pneumonia')\n",
    "res = pd.DataFrame({'filename': test_images['filename'], 'label': predictions}) \n",
    "res.to_csv(\"submission.csv\", index = False) "
   ]
  },
  {
   "cell_type": "code",
   "execution_count": 35,
   "metadata": {},
   "outputs": [
    {
     "data": {
      "text/html": [
       "<div>\n",
       "<style scoped>\n",
       "    .dataframe tbody tr th:only-of-type {\n",
       "        vertical-align: middle;\n",
       "    }\n",
       "\n",
       "    .dataframe tbody tr th {\n",
       "        vertical-align: top;\n",
       "    }\n",
       "\n",
       "    .dataframe thead th {\n",
       "        text-align: right;\n",
       "    }\n",
       "</style>\n",
       "<table border=\"1\" class=\"dataframe\">\n",
       "  <thead>\n",
       "    <tr style=\"text-align: right;\">\n",
       "      <th></th>\n",
       "      <th>filename</th>\n",
       "      <th>label</th>\n",
       "    </tr>\n",
       "  </thead>\n",
       "  <tbody>\n",
       "    <tr>\n",
       "      <th>0</th>\n",
       "      <td>CXR_test_519.png</td>\n",
       "      <td>pneumonia</td>\n",
       "    </tr>\n",
       "    <tr>\n",
       "      <th>1</th>\n",
       "      <td>CXR_test_578.png</td>\n",
       "      <td>normal</td>\n",
       "    </tr>\n",
       "    <tr>\n",
       "      <th>2</th>\n",
       "      <td>CXR_test_359.png</td>\n",
       "      <td>pneumonia</td>\n",
       "    </tr>\n",
       "    <tr>\n",
       "      <th>3</th>\n",
       "      <td>CXR_test_573.png</td>\n",
       "      <td>pneumonia</td>\n",
       "    </tr>\n",
       "    <tr>\n",
       "      <th>4</th>\n",
       "      <td>CXR_test_471.png</td>\n",
       "      <td>pneumonia</td>\n",
       "    </tr>\n",
       "  </tbody>\n",
       "</table>\n",
       "</div>"
      ],
      "text/plain": [
       "           filename      label\n",
       "0  CXR_test_519.png  pneumonia\n",
       "1  CXR_test_578.png     normal\n",
       "2  CXR_test_359.png  pneumonia\n",
       "3  CXR_test_573.png  pneumonia\n",
       "4  CXR_test_471.png  pneumonia"
      ]
     },
     "execution_count": 35,
     "metadata": {},
     "output_type": "execute_result"
    }
   ],
   "source": [
    "sub = pd.read_csv(\"submission.csv\")\n",
    "sub.head()"
   ]
  },
  {
   "cell_type": "code",
   "execution_count": 36,
   "metadata": {},
   "outputs": [
    {
     "data": {
      "text/plain": [
       "pneumonia    385\n",
       "normal       221\n",
       "Name: label, dtype: int64"
      ]
     },
     "execution_count": 36,
     "metadata": {},
     "output_type": "execute_result"
    }
   ],
   "source": [
    "sub.label.value_counts()"
   ]
  },
  {
   "cell_type": "code",
   "execution_count": null,
   "metadata": {},
   "outputs": [],
   "source": []
  }
 ],
 "metadata": {
  "kernelspec": {
   "display_name": "Python 3",
   "language": "python",
   "name": "python3"
  },
  "language_info": {
   "codemirror_mode": {
    "name": "ipython",
    "version": 3
   },
   "file_extension": ".py",
   "mimetype": "text/x-python",
   "name": "python",
   "nbconvert_exporter": "python",
   "pygments_lexer": "ipython3",
   "version": "3.5.2"
  }
 },
 "nbformat": 4,
 "nbformat_minor": 2
}
